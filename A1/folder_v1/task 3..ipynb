{
 "cells": [
  {
   "cell_type": "code",
   "execution_count": 1,
   "id": "50e0e15c",
   "metadata": {},
   "outputs": [
    {
     "ename": "ModuleNotFoundError",
     "evalue": "No module named 'selenium'",
     "output_type": "error",
     "traceback": [
      "\u001b[1;31m---------------------------------------------------------------------------\u001b[0m",
      "\u001b[1;31mModuleNotFoundError\u001b[0m                       Traceback (most recent call last)",
      "Input \u001b[1;32mIn [1]\u001b[0m, in \u001b[0;36m<cell line: 1>\u001b[1;34m()\u001b[0m\n\u001b[1;32m----> 1\u001b[0m \u001b[38;5;28;01mfrom\u001b[39;00m \u001b[38;5;21;01mselenium\u001b[39;00m \u001b[38;5;28;01mimport\u001b[39;00m webdriver\n\u001b[0;32m      2\u001b[0m \u001b[38;5;28;01mimport\u001b[39;00m \u001b[38;5;21;01mrandom\u001b[39;00m\n\u001b[0;32m      3\u001b[0m \u001b[38;5;28;01mfrom\u001b[39;00m \u001b[38;5;21;01mselenium\u001b[39;00m\u001b[38;5;21;01m.\u001b[39;00m\u001b[38;5;21;01mwebdriver\u001b[39;00m\u001b[38;5;21;01m.\u001b[39;00m\u001b[38;5;21;01mcommon\u001b[39;00m\u001b[38;5;21;01m.\u001b[39;00m\u001b[38;5;21;01mby\u001b[39;00m \u001b[38;5;28;01mimport\u001b[39;00m By\n",
      "\u001b[1;31mModuleNotFoundError\u001b[0m: No module named 'selenium'"
     ]
    }
   ],
   "source": [
    "from selenium import webdriver\n",
    "import random\n",
    "from selenium.webdriver.common.by import By\n",
    "\n",
    "driver = webdriver.Firefox(executable_path=r'C:\\geckodriver.exe')\n",
    "\n",
    "# Немного настроим наш браузер\n",
    "driver.maximize_window()\n",
    "driver.implicitly_wait(10)\n",
    "\n",
    "# Откроем страницу магазина\n",
    "driver.get(\"https://www.a1.by/ru/c/shop\")\n",
    "\n",
    "# Закрываем сообщение о cookies.\n",
    "driver.find_element(By.XPATH, '/html/body/main/div[10]/div[2]/div/button').click()\n",
    "\n",
    "# Находим кнопки, добавляем в переменную для выбора рандомной кнопки.\n",
    "buttons = driver.find_elements(By.XPATH, '//*[@id=\"promo-product-button_0\"]')\n",
    "button = random.choice(buttons)\n",
    "button.click()\n",
    "\n",
    "\n",
    "driver.find_element(By.XPATH, '//*[@id=\"CURRENT_CONTRACT\"]/div[1]/div[1]/div/label/span[1]/span[1]/span').click()\n",
    "driver.find_element(By.XPATH, '//*[@id=\"select2-priceBlock_selector_CURRENT_CONTRACT-results\"]/li[3]').click()\n",
    "\n",
    "title = driver.find_element(By.XPATH, '/html/body/main/div[2]/div[2]/div/div/div/div/span[2]/h1').text\n",
    "price = driver.find_element(By.XPATH,\n",
    "                            '//*[@id=\"CURRENT_CONTRACT\"]/div[1]/div[1]/div/label/span[1]/span[1]/span/span[1]').text\n",
    "\n",
    "driver.find_element(By.XPATH, '//*[@id=\"CURRENT_CONTRACT\"]/div[1]/div[2]/div[3]/form/div[2]/div/button').click()\n",
    "\n",
    "print(f'Выбран {title}, вариант оплаты: {price}.')\n",
    "\n",
    "driver.quit()\n"
   ]
  },
  {
   "cell_type": "code",
   "execution_count": null,
   "id": "b045444e",
   "metadata": {},
   "outputs": [],
   "source": []
  }
 ],
 "metadata": {
  "kernelspec": {
   "display_name": "Python 3 (ipykernel)",
   "language": "python",
   "name": "python3"
  },
  "language_info": {
   "codemirror_mode": {
    "name": "ipython",
    "version": 3
   },
   "file_extension": ".py",
   "mimetype": "text/x-python",
   "name": "python",
   "nbconvert_exporter": "python",
   "pygments_lexer": "ipython3",
   "version": "3.10.5"
  }
 },
 "nbformat": 4,
 "nbformat_minor": 5
}
