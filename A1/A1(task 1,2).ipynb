{
 "cells": [
  {
   "cell_type": "markdown",
   "id": "03c8e92a",
   "metadata": {},
   "source": [
    " Задача 1 \n",
    " Представлен список из значений \"Xiaomi Redmi Note 10S\", \"Смартфон Xiaomi Redmi Note\n",
    "10 Pro\", \"Apple iPhone 13\", \"Apple iPhone 11\", \"Huawei nova Y70\", \"Смартфон Apple iPhone 13 Pro\".\n",
    "Необходимо создать новый список, содержащий модели бренда Apple."
   ]
  },
  {
   "cell_type": "code",
   "execution_count": 1,
   "id": "2103f421",
   "metadata": {},
   "outputs": [
    {
     "name": "stdout",
     "output_type": "stream",
     "text": [
      "['Apple iPhone 13', 'Apple iPhone 11', 'Смартфон Apple iPhone 13 Pro']\n"
     ]
    }
   ],
   "source": [
    "mobile = [\"Xiaomi Redmi Note 10S\", \"Смартфон Xiaomi Redmi Note10 Pro\",\n",
    "          \"Apple iPhone 13\", \"Apple iPhone 11\", \"Huawei nova Y70\", \"Смартфон Apple iPhone 13 Pro\"]\n",
    "value = 'Apple'\n",
    "value_mobile = []\n",
    "\n",
    "for i in mobile:\n",
    "    if value.lower() in i.lower():\n",
    "        value_mobile.append(i)\n",
    "\n",
    "print(value_mobile)\n"
   ]
  },
  {
   "cell_type": "markdown",
   "id": "a5cef757",
   "metadata": {},
   "source": [
    "Задача 2 Необходимо создать класс Animal, который имеет атрибуты Name (тип животного), Color\n",
    "(его расцветку) и Voice (издаваемый звук). Написать функцию, которая возвращает строку вида «It\n",
    "says <Voice>.», где <Voice> является уникальным атрибутом класса Animal. Задать три экземпляра\n",
    "класса Cow, Cat, Dog с уникальными атрибутами для каждого. Для каждого экземпляра вывести\n",
    "строку вида « \*<\*Name> is <Color>. It says <Voice>.»"
   ]
  },
  {
   "cell_type": "code",
   "execution_count": 3,
   "id": "303574e2",
   "metadata": {},
   "outputs": [
    {
     "name": "stdout",
     "output_type": "stream",
     "text": [
      "It says mu-mu.\n",
      "Milka is black-white. It says mu-mu.\n",
      "Tom is pink. It says ks-ks.\n",
      "Maks is white. It says wuf-wuf.\n"
     ]
    }
   ],
   "source": [
    "class Animal:\n",
    "\n",
    "    def __init__(self, Name, Color, Voice):\n",
    "        \"\"\"Constructor\"\"\"\n",
    "        self.Name = Name\n",
    "        self.Color = Color\n",
    "        self.Voice = Voice\n",
    "\n",
    "    def return_voice(self):\n",
    "        return f\"It says {self.Voice}.\"\n",
    "\n",
    "\n",
    "Cow = Animal('Milka', 'black-white', 'mu-mu')\n",
    "Cat = Animal('Tom', 'pink', 'ks-ks')\n",
    "Dog = Animal('Maks', 'white', 'wuf-wuf')\n",
    "\n",
    "print(Cow.return_voice())\n",
    "\n",
    "print(f'{Cow.Name} is {Cow.Color}. It says {Cow.Voice}.')\n",
    "print(f'{Cat.Name} is {Cat.Color}. It says {Cat.Voice}.')\n",
    "print(f'{Dog.Name} is {Dog.Color}. It says {Dog.Voice}.')\n",
    "\n"
   ]
  },
  {
   "cell_type": "code",
   "execution_count": null,
   "id": "9dd9be32",
   "metadata": {},
   "outputs": [],
   "source": []
  }
 ],
 "metadata": {
  "kernelspec": {
   "display_name": "Python 3 (ipykernel)",
   "language": "python",
   "name": "python3"
  },
  "language_info": {
   "codemirror_mode": {
    "name": "ipython",
    "version": 3
   },
   "file_extension": ".py",
   "mimetype": "text/x-python",
   "name": "python",
   "nbconvert_exporter": "python",
   "pygments_lexer": "ipython3",
   "version": "3.10.5"
  }
 },
 "nbformat": 4,
 "nbformat_minor": 5
}
